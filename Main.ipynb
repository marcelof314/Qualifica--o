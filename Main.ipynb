{
 "cells": [
  {
   "cell_type": "code",
   "execution_count": null,
   "metadata": {},
   "outputs": [],
   "source": []
  },
  {
   "cell_type": "markdown",
   "metadata": {},
   "source": [
    "1.\tDefinições\n",
    "a.\tSimulações sem carregamento da rede (isolar variáveis: alagamento e congestionamento)\n",
    "b.\tSemana compreenderá o período de segunda à domingo\n",
    "2.\tPreparação dos dados de entrada\n",
    "a.\tEntrada:\n",
    "i.\tArquivo com região de estudo\n",
    "ii.\tArquivo com as bacias contidas na região de estudo\n",
    "iii.\tArquivo com a rede viária da região de estudo\n",
    "iv.\tArquivo com o modelo digital de terreno\n",
    "v.\tArquivo com precipitação\n",
    "vi.\tArquivo com período de análise\n",
    "vii.\tArquivo com máscara de chuva\n",
    "viii.\tArquivo com zoneamento\n",
    "ix.\tArquivo com curva de redução de velocidade (Pregnolato) (artigo tem a curva matemática)\n",
    "b.\tValidações iniciais\n",
    "i.\tVerificar se as projeções são compatíveis entre si\n",
    "ii.\tRealizar plotagem em camadas, para verificar se elas estão sobrepostas\n",
    "iii.\tVerificar se os dados de chuva estão dentro do período de análise\n",
    "3.\tCálculos iniciais\n",
    "a.\tSelecionar a primeira bacia\n",
    "b.\tDeterminar quais zonas interceptam a bacia\n",
    "c.\tListar os centroides destas zonas\n",
    "d.\tSituação sem chuva\n",
    "i.\tUsando o NetworkX, completar a matriz de tempo de viagem entre pares sem chuva. Esse valor será assumido como constante durante todo o período da análise.\n",
    "ii.\tDúvida: o tempo de viagem deve levar em conta somente a rede viária das zonas que interceptam a bacia?\n",
    "iii.\tRecortar a maior retângulo que cubra todas as bacias.\n",
    "e.\tSituação com chuva\n",
    "i.\tIdentificar as semanas, dentro do período analisado, com ocorrência de chuva. Definir um gatilho para uma chuva mínima.\n",
    "ii.\tPara semanas com chuva:\n",
    "1.\tiniciar a simulação de alagamento uma hora antes do início da chuva\n",
    "2.\tentender a mágica de como utilizar o resultado da simulação para bloquear vias\n",
    "3.\tcalcular o matriz de tempo de viagem para cada simulação de alagamento levando em conta a diminuição de velocidade da via em função da lâmina dágua.\n",
    "4.\tCaso a altura atingir 30 cm, considerar a via como indisponível\n",
    "5.\tprosseguir com a simulação seis horas após o término da chuva\n",
    "f.\tCurva de tempos de viagem\n",
    "i.\tTempo médio de viagem dentro da bacia\n",
    "ii.\tMontar o gráfico com os dois tempos de viagem sem chuva e com chuva.\n",
    "iii.\tExtrair a resiliência (calcular integral, aproximação) \n",
    "iv.\tMontar histograma de resiliência (ponto da qualificação)\n"
   ]
  }
 ],
 "metadata": {
  "kernelspec": {
   "display_name": "Python 3",
   "language": "python",
   "name": "python3"
  },
  "language_info": {
   "name": "python",
   "version": "3.11.2"
  }
 },
 "nbformat": 4,
 "nbformat_minor": 2
}
